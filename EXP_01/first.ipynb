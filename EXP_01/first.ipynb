{
 "cells": [
  {
   "cell_type": "code",
   "execution_count": 1,
   "id": "d2de6b7e",
   "metadata": {},
   "outputs": [
    {
     "name": "stdout",
     "output_type": "stream",
     "text": [
      "Countries:  ['India', 'Pakistan', 'England', 'Barzil', 'Spain', 'France', 'China']\n",
      " \n",
      "The third Country in the list is England\n",
      " \n",
      "Countries List: ['Barzil', 'China', 'England', 'France', 'India', 'Pakistan', 'Spain']\n",
      " \n",
      "India is present in the list.\n"
     ]
    }
   ],
   "source": [
    "Countries = ['India','Pakistan','England','Barzil','Spain']\n",
    "\n",
    "# 1.List a\n",
    "Countries.append('France')\n",
    "Countries.append('China')\n",
    "print(\"Countries: \",Countries)\n",
    "\n",
    "# 1.List b\n",
    "print(\" \")\n",
    "print(f\"The third Country in the list is {Countries[2]}\")\n",
    "\n",
    "# 1.List C\n",
    "Countries.sort()\n",
    "print(\" \")\n",
    "print(f\"Countries List: {Countries}\")\n",
    "\n",
    "# 1.List D\n",
    "print(\" \")\n",
    "if 'India' in Countries:\n",
    "    print(\"India is present in the list.\")\n",
    "else:\n",
    "    print(\"India is not present in the list.\")"
   ]
  },
  {
   "cell_type": "code",
   "execution_count": 2,
   "id": "02e33f33",
   "metadata": {},
   "outputs": [
    {
     "name": "stdout",
     "output_type": "stream",
     "text": [
      "The maximum price of the product is 300.0\n",
      "The minimum price of the product is 100.0\n",
      " \n",
      "The total price of the product is 1001.0\n",
      " \n",
      "The average price of the product is 200.2\n",
      " \n",
      "The Product list: [100.0, 150.5, 200.0, 250.5, 300.0, 350.5]\n"
     ]
    }
   ],
   "source": [
    "product_prices = (100.00, 150.50, 200.00, 250.50, 300.00)\n",
    "\n",
    "# 1.Tuple a\n",
    "print(f\"The maximum price of the product is {max(product_prices)}\")\n",
    "print(f\"The minimum price of the product is {min(product_prices)}\")\n",
    "print(\" \")\n",
    "\n",
    "# 1.Tuple b\n",
    "print(f\"The total price of the product is {sum(product_prices)}\")\n",
    "print(\" \")\n",
    "\n",
    "# 1.Tuple d\n",
    "print(f\"The average price of the product is {sum(product_prices)/len(product_prices)}\")\n",
    "print(\" \")\n",
    "\n",
    "# 1.Tuple c\n",
    "product_list = list(product_prices)\n",
    "product_list.append(350.50)\n",
    "print(f\"The Product list: {product_list}\")"
   ]
  },
  {
   "cell_type": "code",
   "execution_count": 3,
   "id": "19267ae4",
   "metadata": {},
   "outputs": [
    {
     "name": "stdout",
     "output_type": "stream",
     "text": [
      "The City names : {'Mumbai': 2041100, 'Patna': 841900, 'Jamshedpur': 139600, 'Ara': 214800, 'Bengaluru': 531200, 'Delhi': 1678000, 'Puri': 248700}\n",
      "The city with the highest population is Puri\n",
      "London is not present in the list.\n",
      "Removed Ara from the dictionary.\n",
      " \n",
      "{'Mumbai': 2041100, 'Patna': 841900, 'Jamshedpur': 139600, 'Bengaluru': 531200, 'Delhi': 1678000, 'Puri': 248700}\n"
     ]
    }
   ],
   "source": [
    "from os import remove\n",
    "# Experiment 2.1 : Dictionaries\n",
    "\n",
    "city_population = {\n",
    "    'Mumbai': 2041100,\n",
    "    'Patna': 841900,\n",
    "    'Jamshedpur': 139600,\n",
    "    'Ara': 214800,\n",
    "    'Bengaluru': 531200\n",
    "}\n",
    "\n",
    "# 2.1a\n",
    "city_population['Delhi'] = 1678000\n",
    "city_population['Puri'] = 248700\n",
    "print(f\"The City names : {city_population}\")\n",
    "\n",
    "# 2.1b\n",
    "M_pop = max(city_population)\n",
    "print(f\"The city with the highest population is {M_pop}\")\n",
    "\n",
    "# 2.1c\n",
    "if 'London' in city_population:\n",
    "    print(\"London is present in the list.\")\n",
    "else:\n",
    "    print(\"London is not present in the list.\")\n",
    "\n",
    "# 2.1d\n",
    "remove_city= city_population.pop('Ara', None)\n",
    "if remove_city is not None:\n",
    "    print(\"Removed Ara from the dictionary.\")\n",
    "else:\n",
    "    print(\"Ara was not found in the dictionary.\")\n",
    "\n",
    "print(\" \")\n",
    "print(f\"{city_population}\")\n"
   ]
  },
  {
   "cell_type": "code",
   "execution_count": 4,
   "id": "76d1d3db",
   "metadata": {},
   "outputs": [
    {
     "name": "stdout",
     "output_type": "stream",
     "text": [
      "Name and Marks: {'Piyush': 60, 'Aniket': 85, 'Harsh': 70, 'Asmit': 75, 'Sagar': 80}\n",
      "Average Marks: 74.0\n",
      "Highest Marks: 85\n",
      "Sorted Exam: {'Aniket': 85, 'Asmit': 75, 'Harsh': 70, 'Piyush': 60, 'Sagar': 80}\n"
     ]
    }
   ],
   "source": [
    "Maths_Exam ={\n",
    "  'Piyush': 60,\n",
    "  'Aniket': 85,\n",
    "  'Harsh' : 70,\n",
    "  'Asmit' : 75,\n",
    "}\n",
    "\n",
    "#2.2a\n",
    "Maths_Exam['Sagar'] = 80\n",
    "print(f\"Name and Marks: {Maths_Exam}\")\n",
    "\n",
    "# 2.2b\n",
    "total_marks = sum(Maths_Exam.values())\n",
    "average_marks = total_marks / len(Maths_Exam)\n",
    "print(f\"Average Marks: {average_marks}\")\n",
    "\n",
    "# 2.2c\n",
    "highest_marks = max(Maths_Exam.values())\n",
    "print(f\"Highest Marks: {highest_marks}\")\n",
    "\n",
    "# 2.2d\n",
    "sorted_exam = dict(sorted(Maths_Exam.items()))\n",
    "print(f\"Sorted Exam: {sorted_exam}\")\n"
   ]
  },
  {
   "cell_type": "code",
   "execution_count": 5,
   "id": "f439fb0c",
   "metadata": {},
   "outputs": [
    {
     "name": "stdout",
     "output_type": "stream",
     "text": [
      "The Stack : ['a', 'e', 'i', 'o', 'u']\n",
      "Stack after the pop function: ['a', 'e', 'i']\n",
      "The stack is not empty.\n"
     ]
    }
   ],
   "source": [
    "# Experiemt 3 - Implement a stack using a Python list to perform the following operations:\n",
    "stack = []\n",
    "\n",
    "# 3.1a. Push five elements onto the stack.\n",
    "stack.append('a')\n",
    "stack.append('e')\n",
    "stack.append('i')\n",
    "stack.append('o')\n",
    "stack.append('u')\n",
    "\n",
    "print(f\"The Stack : {stack}\")\n",
    "\n",
    "# 3.1b. Pop two elements from the stack.\n",
    "stack.pop()\n",
    "stack.pop()\n",
    "print(f\"Stack after the pop function: {stack}\")\n",
    "\n",
    "# 3.1c. Check if the stack is empty.\n",
    "if not stack:\n",
    "    print(\"The stack is empty.\")\n",
    "else:\n",
    "    print(\"The stack is not empty.\")\n"
   ]
  },
  {
   "cell_type": "code",
   "execution_count": 6,
   "id": "2493cca8",
   "metadata": {},
   "outputs": [
    {
     "name": "stdout",
     "output_type": "stream",
     "text": [
      "The Queue : ['a', 'e', 'i', 'o', 'u']\n",
      "The Queue after Dequeue : ['o', 'u']\n",
      "The queue is NOT empty.\n"
     ]
    }
   ],
   "source": [
    "# Experiment 3 - Implement a queue using a Python list to perform the following operations:\n",
    "queue = []\n",
    "\n",
    "# 3.2a. Enqueue five elements into the queue.\n",
    "queue.append('a')\n",
    "queue.append('e')\n",
    "queue.append('i')\n",
    "queue.append('o')\n",
    "queue.append('u')\n",
    "\n",
    "print(f\"The Queue : {queue}\")\n",
    "\n",
    "# 3.2b. Dequeue three elements from the queue.\n",
    "queue.pop(0)\n",
    "queue.pop(0)\n",
    "queue.pop(0)\n",
    "\n",
    "print(f\"The Queue after Dequeue : {queue}\")\n",
    "\n",
    "# 3.2c. Check if the queue is empty.\n",
    "if not queue:\n",
    "    print(\"The queue is empty.\")\n",
    "else:\n",
    "    print(\"The queue is NOT empty.\")\n"
   ]
  },
  {
   "cell_type": "code",
   "execution_count": 7,
   "id": "2fa0149a",
   "metadata": {},
   "outputs": [
    {
     "name": "stdout",
     "output_type": "stream",
     "text": [
      "The Queue : ['10', '100', '1000', '10000', '100000']\n",
      "The Queue after Dequeue : ['10000', '100000']\n",
      "The queue is NOT empty.\n"
     ]
    }
   ],
   "source": [
    "# Queue:\n",
    "# 1)Enqueue five elements into the queue\n",
    "queue = []\n",
    "queue.append('10')\n",
    "queue.append('100')\n",
    "queue.append('1000')\n",
    "queue.append('10000')\n",
    "queue.append('100000')\n",
    "print(f\"The Queue : {queue}\")\n",
    "\n",
    "# 2) Dequeue three elements from the queue\n",
    "queue.pop(0)\n",
    "queue.pop(0)\n",
    "queue.pop(0)\n",
    "print(f\"The Queue after Dequeue : {queue}\")\n",
    "\n",
    "# 3) Check if the queue is empty\n",
    "if not queue:\n",
    "    print(\"The queue is empty.\")\n",
    "else:\n",
    "    print(\"The queue is NOT empty.\")\n"
   ]
  },
  {
   "cell_type": "code",
   "execution_count": 8,
   "id": "82d25d6d",
   "metadata": {},
   "outputs": [],
   "source": [
    "# Linked List:\n",
    "# 1)\tInsert five elements at the beginning of the list\n",
    "Linked_List = []\n"
   ]
  }
 ],
 "metadata": {
  "kernelspec": {
   "display_name": "Python 3",
   "language": "python",
   "name": "python3"
  },
  "language_info": {
   "codemirror_mode": {
    "name": "ipython",
    "version": 3
   },
   "file_extension": ".py",
   "mimetype": "text/x-python",
   "name": "python",
   "nbconvert_exporter": "python",
   "pygments_lexer": "ipython3",
   "version": "3.13.3"
  }
 },
 "nbformat": 4,
 "nbformat_minor": 5
}
