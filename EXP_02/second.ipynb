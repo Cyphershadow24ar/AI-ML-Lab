{
 "cells": [
  {
   "cell_type": "code",
   "execution_count": 1,
   "id": "d83fa369",
   "metadata": {},
   "outputs": [
    {
     "name": "stdout",
     "output_type": "stream",
     "text": [
      "Original DataFrame:\n",
      "       Name  Age   City\n",
      "0  Dr.House   40   BBSR\n",
      "1      Puja   30   Puri\n",
      "2    Camron   24  Delhi\n",
      "\n"
     ]
    }
   ],
   "source": [
    "# 1)create a simple Data Frame in Pandas with the following data?\n",
    "#       i)Name ii) age iii) city\n",
    "\n",
    "import pandas as pd\n",
    "\n",
    "data = {\n",
    "    'Name': ['Dr.House', 'Puja','Camron'],\n",
    "    'Age': [40, 30, 24],\n",
    "    'City':['BBSR','Puri','Delhi']\n",
    "}\n",
    "\n",
    "df = pd.DataFrame(data)\n",
    "print(f\"Original DataFrame:\\n{df}\\n\")\n"
   ]
  },
  {
   "cell_type": "code",
   "execution_count": 2,
   "id": "71fa9b65",
   "metadata": {},
   "outputs": [
    {
     "name": "stdout",
     "output_type": "stream",
     "text": [
      "Rows with Age > 30:\n",
      "       Name  Age  City\n",
      "0  Dr.House   40  BBSR\n",
      "\n"
     ]
    }
   ],
   "source": [
    "# 2) select only the rows from a Pandas Data Frame where the 'Age' is greater than 30?\n",
    "\n",
    "filtered_df = df[df['Age'] > 30]\n",
    "print(f\"Rows with Age > 30:\\n{filtered_df}\\n\")"
   ]
  },
  {
   "cell_type": "code",
   "execution_count": 3,
   "id": "8f29b5e9",
   "metadata": {},
   "outputs": [
    {
     "name": "stdout",
     "output_type": "stream",
     "text": [
      "DataFrame sorted by Age:\n",
      "       Name  Age   City\n",
      "2    Camron   24  Delhi\n",
      "1      Puja   30   Puri\n",
      "0  Dr.House   40   BBSR\n",
      "\n"
     ]
    }
   ],
   "source": [
    "#  3) sort the Data Frame by the 'Age' column in ascending order?\n",
    "\n",
    "sorted_df = df.sort_values(by='Age')\n",
    "print(f\"DataFrame sorted by Age:\\n{sorted_df}\\n\")"
   ]
  },
  {
   "cell_type": "code",
   "execution_count": 4,
   "id": "15e2f422",
   "metadata": {},
   "outputs": [
    {
     "name": "stdout",
     "output_type": "stream",
     "text": [
      "DataFrame with NaN filled:\n",
      "       Name  Age     City\n",
      "0  Dr.House   40     BBSR\n",
      "1      Puja   30  Unknown\n",
      "2    Camron   24    Delhi\n",
      "\n",
      "DataFrame after dropping NaN rows:\n",
      "       Name  Age   City\n",
      "0  Dr.House   40   BBSR\n",
      "2    Camron   24  Delhi\n",
      "\n"
     ]
    }
   ],
   "source": [
    "# 4) handle missing values (NaN) in a Pandas Data Frame\n",
    "\n",
    "# Add a NaN value\n",
    "df_with_nan = df.copy()\n",
    "df_with_nan.loc[1, 'City'] = None\n",
    "\n",
    "# Fill NaN with a string\n",
    "df_filled = df_with_nan.fillna('Unknown')\n",
    "print(f\"DataFrame with NaN filled:\\n{df_filled}\\n\")\n",
    "\n",
    "# Drop rows with any NaN values\n",
    "df_dropped = df_with_nan.dropna()\n",
    "print(f\"DataFrame after dropping NaN rows:\\n{df_dropped}\\n\")\n"
   ]
  },
  {
   "cell_type": "code",
   "execution_count": 5,
   "id": "c59f4cb2",
   "metadata": {},
   "outputs": [
    {
     "name": "stdout",
     "output_type": "stream",
     "text": [
      "       Name  Age\n",
      "0  Dr.House   40\n",
      "1      Puja   30\n",
      "2    Camron   24\n"
     ]
    }
   ],
   "source": [
    "# 5) drop the 'City' column from the Data Frame?\n",
    "df_no_city = df.drop(columns=['City'])\n",
    "print(df_no_city)\n"
   ]
  },
  {
   "cell_type": "code",
   "execution_count": 6,
   "id": "862a9303",
   "metadata": {},
   "outputs": [
    {
     "name": "stdout",
     "output_type": "stream",
     "text": [
      "       Name  Age\n",
      "0  Dr.House   40\n",
      "1      Puja   30\n",
      "2    Camron   24\n",
      " \n",
      "Merged DataFrame:\n",
      "       Name  Age   City  Salary\n",
      "0  Dr.House   40   BBSR   50000\n",
      "1      Puja   30   Puri   60000\n",
      "2    Camron   24  Delhi   55000\n",
      "\n"
     ]
    }
   ],
   "source": [
    "# 6) merge two Pandas Data Frames based on a common column?\n",
    "print(df_no_city)\n",
    "\n",
    "df2 = pd.DataFrame({\n",
    "    'Name': ['Dr.House', 'Puja','Camron'],\n",
    "    'Salary': [50000, 60000, 55000]\n",
    "})\n",
    "print(\" \")\n",
    "merged_df = pd.merge(df, df2, on='Name', how='inner')\n",
    "print(f\"Merged DataFrame:\\n{merged_df}\\n\")\n"
   ]
  },
  {
   "cell_type": "code",
   "execution_count": 7,
   "id": "d88b8e78",
   "metadata": {},
   "outputs": [
    {
     "name": "stdout",
     "output_type": "stream",
     "text": [
      "DataFrame after adding 'Country & Regd. No.' column:\n",
      "       Name  Age   City Country  Salary  REGD No.\n",
      "0  Dr.House   40   BBSR   India   50000        37\n",
      "1      Puja   30   Puri   India   60000        78\n",
      "2    Camron   24  Delhi   India   55000        12\n",
      "\n"
     ]
    }
   ],
   "source": [
    "# 7) add a new column to an existing Pandas Data Frame?\n",
    "df['Country'] = ['India', 'India', 'India']\n",
    "df['Salary'] = [50000, 60000, 55000]\n",
    "df['REGD No.'] = [ 37, 78, 12]\n",
    "print(f\"DataFrame after adding 'Country & Regd. No.' column:\\n{df}\\n\")"
   ]
  },
  {
   "cell_type": "code",
   "execution_count": 8,
   "id": "05fb31bb",
   "metadata": {},
   "outputs": [
    {
     "name": "stdout",
     "output_type": "stream",
     "text": [
      "DataFrame after renaming 'Age' to 'Years':\n",
      "       Name  Years   City Country  Salary  REGD No.\n",
      "0  Dr.House     40   BBSR   India   50000        37\n",
      "1      Puja     30   Puri   India   60000        78\n",
      "2    Camron     24  Delhi   India   55000        12\n",
      "\n"
     ]
    }
   ],
   "source": [
    "# 8) rename a column in a Pandas Data Frame?\n",
    "df_renamed = df.rename(columns={'Age': 'Years'})\n",
    "print(f\"DataFrame after renaming 'Age' to 'Years':\\n{df_renamed}\\n\")"
   ]
  },
  {
   "cell_type": "code",
   "execution_count": 9,
   "id": "84cff7c6",
   "metadata": {},
   "outputs": [
    {
     "name": "stdout",
     "output_type": "stream",
     "text": [
      "Summary statistics of the DataFrame:\n",
      "             Age   Salary   REGD No.\n",
      "count   3.000000      3.0   3.000000\n",
      "mean   31.333333  55000.0  42.333333\n",
      "std     8.082904   5000.0  33.321665\n",
      "min    24.000000  50000.0  12.000000\n",
      "25%    27.000000  52500.0  24.500000\n",
      "50%    30.000000  55000.0  37.000000\n",
      "75%    35.000000  57500.0  57.500000\n",
      "max    40.000000  60000.0  78.000000\n",
      "\n"
     ]
    }
   ],
   "source": [
    "# 9) How do you get the summary statistics (e.g. mean, median, count) of a Pandas Data Frame?\n",
    "summary_stats = df.describe()\n",
    "print(f\"Summary statistics of the DataFrame:\\n{summary_stats}\\n\")"
   ]
  },
  {
   "cell_type": "code",
   "execution_count": 10,
   "id": "b1ab2285",
   "metadata": {},
   "outputs": [
    {
     "name": "stdout",
     "output_type": "stream",
     "text": [
      "Is the DataFrame empty? False\n",
      "Is the empty DataFrame empty? False\n"
     ]
    }
   ],
   "source": [
    "# 10) How do you check if a Pandas Data Frame is empty?\n",
    "\n",
    "is_empty = df.empty\n",
    "print(f\"Is the DataFrame empty? {is_empty}\")\n",
    "\n",
    "# You can also check an empty DataFrame\n",
    "print(f\"Is the empty DataFrame empty? {df_dropped.empty}\")"
   ]
  }
 ],
 "metadata": {
  "kernelspec": {
   "display_name": "Python 3",
   "language": "python",
   "name": "python3"
  },
  "language_info": {
   "codemirror_mode": {
    "name": "ipython",
    "version": 3
   },
   "file_extension": ".py",
   "mimetype": "text/x-python",
   "name": "python",
   "nbconvert_exporter": "python",
   "pygments_lexer": "ipython3",
   "version": "3.13.3"
  }
 },
 "nbformat": 4,
 "nbformat_minor": 5
}
