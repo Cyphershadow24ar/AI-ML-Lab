{
  "nbformat": 4,
  "nbformat_minor": 0,
  "metadata": {
    "colab": {
      "provenance": []
    },
    "kernelspec": {
      "name": "python3",
      "display_name": "Python 3"
    },
    "language_info": {
      "name": "python"
    }
  },
  "cells": [
    {
      "cell_type": "code",
      "execution_count": null,
      "metadata": {
        "colab": {
          "base_uri": "https://localhost:8080/"
        },
        "id": "96sNIkIu2x77",
        "outputId": "460da10b-57eb-4b70-8314-fca6443b11d8"
      },
      "outputs": [
        {
          "output_type": "stream",
          "name": "stdout",
          "text": [
            "{'s': 14, 'c': 11, 'b': 12, 'f': 11, 'e': 4, 'd': 6, 'g': 0}\n"
          ]
        }
      ],
      "source": [
        "h={ 's' : 14,\n",
        "   'c' : 11,\n",
        "    'b' : 12,\n",
        "    'f' : 11,\n",
        "    'e' : 4,\n",
        "    'd' : 6,\n",
        "    'g' : 0}\n",
        "\n",
        "print(h)\n"
      ]
    },
    {
      "cell_type": "code",
      "metadata": {
        "colab": {
          "base_uri": "https://localhost:8080/"
        },
        "id": "ab3f2cf9",
        "outputId": "323b8cc3-db9f-4f4b-bba4-28656919f6bb"
      },
      "source": [
        "graph = {\n",
        "    's': {'c': 3, 'b': 4},\n",
        "    'b': {'f': 5, 'e': 12},\n",
        "    'c': {'e': 10, 'd': 7},\n",
        "    'd': {'e': 2},\n",
        "    'e': {'g': 5},\n",
        "    'f': {'g': 16},\n",
        "    'g': {}\n",
        "}\n",
        "\n",
        "print(graph)"
      ],
      "execution_count": null,
      "outputs": [
        {
          "output_type": "stream",
          "name": "stdout",
          "text": [
            "{'s': {'c': 3, 'b': 4}, 'b': {'f': 5, 'e': 12}, 'c': {'e': 10, 'd': 7}, 'd': {'e': 2}, 'e': {'g': 5}, 'f': {'g': 16}, 'g': {}}\n"
          ]
        }
      ]
    },
    {
      "cell_type": "code",
      "metadata": {
        "colab": {
          "base_uri": "https://localhost:8080/"
        },
        "id": "b88b1375",
        "outputId": "4298f9e1-063c-4aeb-92ae-6b7def8fdb27"
      },
      "source": [
        "# A star algorithm\n",
        "\n",
        "import heapq\n",
        "\n",
        "# Graph\n",
        "graph = {\n",
        "    'S': [('B', 4), ('C', 3)],\n",
        "    'B': [('E', 12), ('F', 5)],\n",
        "    'C': [('E', 10),('D',7)],\n",
        "    'D': [('E', 2)],\n",
        "    'E': [('G', 5)],\n",
        "    'F': [('G', 16)],\n",
        "    'G': []\n",
        "}\n",
        "\n",
        "# Heuristic values\n",
        "h = {\n",
        "    'S': 14,\n",
        "    'B': 12,\n",
        "    'C': 11,\n",
        "    'D': 6,\n",
        "    'E': 4,\n",
        "    'F': 11,\n",
        "    'G': 0\n",
        "}\n",
        "\n",
        "def astar(start, goal):\n",
        "    open_list = []\n",
        "    heapq.heappush(open_list, (h[start], 0, start, [start]))  # (f, g, node, path)\n",
        "    closed_set = set()\n",
        "\n",
        "    while open_list:\n",
        "        f, g, current, path = heapq.heappop(open_list)\n",
        "\n",
        "        if current in closed_set:\n",
        "            continue\n",
        "        closed_set.add(current)\n",
        "\n",
        "        if current == goal:\n",
        "            return path, g\n",
        "\n",
        "        for neighbor, cost in graph[current]:\n",
        "            if neighbor not in closed_set:\n",
        "                g_new = g + cost\n",
        "                f_new = g_new + h[neighbor]\n",
        "                heapq.heappush(open_list, (f_new, g_new, neighbor, path + [neighbor]))\n",
        "\n",
        "    return None, float('inf')\n",
        "\n",
        "path, total_cost = astar('S', 'G')\n",
        "print(\"Optimal Path:\", \" -> \".join(path))\n",
        "print(\"Total Cost:\", total_cost)"
      ],
      "execution_count": null,
      "outputs": [
        {
          "output_type": "stream",
          "name": "stdout",
          "text": [
            "Optimal Path: S -> C -> D -> E -> G\n",
            "Total Cost: 17\n"
          ]
        }
      ]
    },
    {
      "cell_type": "code",
      "source": [
        "from queue import PriorityQueue\n",
        "\n",
        "def a_star(graph, start, goal, h):\n",
        "    pq = PriorityQueue()\n",
        "    pq.put((h[start], start, [start], 0))\n",
        "    visited = set()\n",
        "\n",
        "    while not pq.empty():\n",
        "        f_score, current, path, g_score = pq.get()\n",
        "\n",
        "        if current in visited:\n",
        "            continue\n",
        "        visited.add(current)\n",
        "\n",
        "        if current == goal:\n",
        "            return path, g_score\n",
        "\n",
        "        for neighbor, cost in graph.get(current, []):\n",
        "            if neighbor not in visited:\n",
        "                g = g_score + cost\n",
        "                f = g + h[neighbor]\n",
        "                pq.put((f, neighbor, path + [neighbor], g))\n",
        "\n",
        "    return None, float('inf')\n",
        "\n",
        "\n",
        "graph = {\n",
        "    'A': [('B', 6), ('F', 3)],\n",
        "    'B': [('G', 2), ('C', 3)],\n",
        "    'C': [('E', 5)],\n",
        "    'D': [('C', 1), ('E', 8)],\n",
        "    'E': [('I', 3), ('J', 5)],\n",
        "    'F': [('G', 1), ('H', 7)],\n",
        "    'G': [('E', 5), ('I', 2)],\n",
        "    'H': [('I', 2)],\n",
        "    'I': [('J', 7)],\n",
        "    'J': []\n",
        "}\n",
        "\n",
        "# Heuristics\n",
        "h = {\n",
        "    'A': 10,\n",
        "    'B': 8,\n",
        "    'C': 5,\n",
        "    'D': 7,\n",
        "    'E': 3,\n",
        "    'F': 6,\n",
        "    'G': 5,\n",
        "    'H': 3,\n",
        "    'I': 1,\n",
        "    'J': 0\n",
        "}\n",
        "\n",
        "# Run A*\n",
        "path, cost = a_star(graph, 'A', 'J', h)\n",
        "print(\"Path:\", path)\n",
        "print(\"Cost:\", cost)"
      ],
      "metadata": {
        "colab": {
          "base_uri": "https://localhost:8080/"
        },
        "id": "diS13erQVXtj",
        "outputId": "7bbc3121-6cf0-405b-8dfd-605951e63c7e"
      },
      "execution_count": null,
      "outputs": [
        {
          "output_type": "stream",
          "name": "stdout",
          "text": [
            "Path: ['A', 'F', 'G', 'I', 'J']\n",
            "Cost: 13\n"
          ]
        }
      ]
    },
    {
      "cell_type": "code",
      "source": [
        "# AO* star\n",
        "\n",
        "def Cost(H, condition, weight = 1):\n",
        "    cost = {}\n",
        "    if 'AND' in condition:\n",
        "        AND_nodes = condition['AND']\n",
        "        Path_A = ' AND '.join(AND_nodes)\n",
        "        PathA = sum(H[node]+weight for node in AND_nodes)\n",
        "        cost[Path_A] = PathA\n",
        "\n",
        "    if 'OR' in condition:\n",
        "        OR_nodes = condition['OR']\n",
        "        Path_B = ' OR '.join(OR_nodes)\n",
        "        PathB = min(H[node]+weight for node in OR_nodes)\n",
        "        cost[Path_B] = PathB\n",
        "    return cost\n",
        "\n",
        "# Update the cost\n",
        "def update_cost(H, Conditions, weight=1):\n",
        "    Main_nodes = list(Conditions.keys())\n",
        "    Main_nodes.reverse()\n",
        "    least_cost = {}\n",
        "    for key in Main_nodes:\n",
        "        condition = Conditions[key]\n",
        "        print(key, ':', Conditions[key], '>>>', Cost(H, condition, weight))\n",
        "        c = Cost(H, condition, weight)\n",
        "        H[key] = min(c.values())\n",
        "        least_cost[key] = Cost(H, condition, weight)\n",
        "    return least_cost\n",
        "\n",
        "# Print the shortest path\n",
        "def shortest_path(Start, Updated_cost, H):\n",
        "    Path = Start\n",
        "    if Start in Updated_cost.keys():\n",
        "        Min_cost = min(Updated_cost[Start].values())\n",
        "        key = list(Updated_cost[Start].keys())\n",
        "        values = list(Updated_cost[Start].values())\n",
        "        Index = values.index(Min_cost)\n",
        "\n",
        "        # FIND MINIMUM PATH KEY\n",
        "        Next = key[Index].split()\n",
        "        # ADD TO PATH FOR OR PATH\n",
        "        if len(Next) == 1:\n",
        "            Start = Next[0]\n",
        "            Path += '<--' + shortest_path(Start, Updated_cost, H)\n",
        "        # ADD TO PATH FOR AND PATH\n",
        "        else:\n",
        "            Path += '<--('+key[Index]+') '\n",
        "            Start = Next[0]\n",
        "            Path += '[' + shortest_path(Start, Updated_cost, H) + ' + '\n",
        "            Start = Next[-1]\n",
        "            Path += shortest_path(Start, Updated_cost, H) + ']'\n",
        "\n",
        "    return Path\n",
        "\n",
        "\n",
        "# Final Code with Visualization\n",
        "import networkx as nx\n",
        "import matplotlib.pyplot as plt\n",
        "\n",
        "# Visualization of the graph based on the provided conditions\n",
        "def visualize_graph(conditions, updated_cost, H):\n",
        "    G = nx.DiGraph()\n",
        "\n",
        "    # Add nodes and edges\n",
        "    for node, condition in conditions.items():\n",
        "        if 'AND' in condition:\n",
        "            for n in condition['AND']:\n",
        "                G.add_edge(node, n, label='AND', color='green')\n",
        "        if 'OR' in condition:\n",
        "            for n in condition['OR']:\n",
        "                G.add_edge(node, n, label='OR', color='blue')\n",
        "\n",
        "    pos = nx.spring_layout(G)  # positions for all nodes\n",
        "    labels = nx.get_edge_attributes(G, 'label')\n",
        "    colors = [G[u][v]['color'] for u, v in G.edges]\n",
        "\n",
        "    # Draw the graph\n",
        "    plt.figure(figsize=(8, 6))\n",
        "    nx.draw(G, pos, with_labels=True, node_color='lightblue', node_size=2000, font_size=10, font_weight='bold', edge_color=colors, arrows=True)\n",
        "    nx.draw_networkx_edge_labels(G, pos, edge_labels=labels, font_color='red')\n",
        "    plt.title('AND-OR Path Graph')\n",
        "    plt.show()\n",
        "\n",
        "\n",
        "# Example Usage:\n",
        "H = {'A': -1, 'B': 5, 'C': 2, 'D': 4, 'E': 7, 'F': 9, 'G': 3, 'H': 0, 'I': 0, 'J': 0}\n",
        "\n",
        "Conditions = {\n",
        "    'A': {'OR': ['B'], 'AND': ['C', 'D']},\n",
        "    'B': {'OR': ['E', 'F']},\n",
        "    'C': {'OR': ['G'], 'AND': ['H', 'I']},\n",
        "    'D': {'OR': ['J']}\n",
        "}\n",
        "\n",
        "# Weight\n",
        "weight = 1\n",
        "\n",
        "# Updated cost\n",
        "print('Updated Cost:')\n",
        "Updated_cost = update_cost(H, Conditions, weight)\n",
        "print('*' * 75)\n",
        "\n",
        "# Shortest Path\n",
        "print('Shortest Path:\\n', shortest_path('A', Updated_cost, H))\n",
        "\n",
        "# Visualize the graph\n",
        "visualize_graph(Conditions, Updated_cost, H)"
      ],
      "metadata": {
        "colab": {
          "base_uri": "https://localhost:8080/",
          "height": 798
        },
        "id": "mCF0cn1qVq83",
        "outputId": "4372cc51-b83d-41af-a4a0-05a6abfd85bd"
      },
      "execution_count": null,
      "outputs": [
        {
          "output_type": "stream",
          "name": "stdout",
          "text": [
            "Updated Cost:\n",
            "D : {'OR': ['J']} >>> {'J': 1}\n",
            "C : {'OR': ['G'], 'AND': ['H', 'I']} >>> {'H AND I': 2, 'G': 4}\n",
            "B : {'OR': ['E', 'F']} >>> {'E OR F': 8}\n",
            "A : {'OR': ['B'], 'AND': ['C', 'D']} >>> {'C AND D': 5, 'B': 9}\n",
            "***************************************************************************\n",
            "Shortest Path:\n",
            " A<--(C AND D) [C<--(H AND I) [H + I] + D<--J]\n"
          ]
        },
        {
          "output_type": "display_data",
          "data": {
            "text/plain": [
              "<Figure size 800x600 with 1 Axes>"
            ],
            "image/png": "[encoded data removed]"
          },
          "metadata": {}
        }
      ]
    }
  ]
}